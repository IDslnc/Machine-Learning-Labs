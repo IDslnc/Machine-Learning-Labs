{
  "nbformat": 4,
  "nbformat_minor": 0,
  "metadata": {
    "colab": {
      "provenance": []
    },
    "kernelspec": {
      "name": "python3",
      "display_name": "Python 3"
    },
    "language_info": {
      "name": "python"
    }
  },
  "cells": [
    {
      "cell_type": "markdown",
      "source": [
        "Давыдов ПИм-231 лаба 16 ммо"
      ],
      "metadata": {
        "id": "1PeWCIwrTb79"
      }
    },
    {
      "cell_type": "code",
      "execution_count": null,
      "metadata": {
        "colab": {
          "base_uri": "https://localhost:8080/",
          "height": 90
        },
        "id": "lDkP8QtVTYvD",
        "outputId": "1a6d1b43-e5d2-46f5-f5c5-c50414382c10"
      },
      "outputs": [
        {
          "output_type": "display_data",
          "data": {
            "text/plain": [
              "<IPython.core.display.HTML object>"
            ],
            "text/html": [
              "\n",
              "     <input type=\"file\" id=\"files-2d73d489-7137-4851-873c-085c10e0f206\" name=\"files[]\" multiple disabled\n",
              "        style=\"border:none\" />\n",
              "     <output id=\"result-2d73d489-7137-4851-873c-085c10e0f206\">\n",
              "      Upload widget is only available when the cell has been executed in the\n",
              "      current browser session. Please rerun this cell to enable.\n",
              "      </output>\n",
              "      <script>// Copyright 2017 Google LLC\n",
              "//\n",
              "// Licensed under the Apache License, Version 2.0 (the \"License\");\n",
              "// you may not use this file except in compliance with the License.\n",
              "// You may obtain a copy of the License at\n",
              "//\n",
              "//      http://www.apache.org/licenses/LICENSE-2.0\n",
              "//\n",
              "// Unless required by applicable law or agreed to in writing, software\n",
              "// distributed under the License is distributed on an \"AS IS\" BASIS,\n",
              "// WITHOUT WARRANTIES OR CONDITIONS OF ANY KIND, either express or implied.\n",
              "// See the License for the specific language governing permissions and\n",
              "// limitations under the License.\n",
              "\n",
              "/**\n",
              " * @fileoverview Helpers for google.colab Python module.\n",
              " */\n",
              "(function(scope) {\n",
              "function span(text, styleAttributes = {}) {\n",
              "  const element = document.createElement('span');\n",
              "  element.textContent = text;\n",
              "  for (const key of Object.keys(styleAttributes)) {\n",
              "    element.style[key] = styleAttributes[key];\n",
              "  }\n",
              "  return element;\n",
              "}\n",
              "\n",
              "// Max number of bytes which will be uploaded at a time.\n",
              "const MAX_PAYLOAD_SIZE = 100 * 1024;\n",
              "\n",
              "function _uploadFiles(inputId, outputId) {\n",
              "  const steps = uploadFilesStep(inputId, outputId);\n",
              "  const outputElement = document.getElementById(outputId);\n",
              "  // Cache steps on the outputElement to make it available for the next call\n",
              "  // to uploadFilesContinue from Python.\n",
              "  outputElement.steps = steps;\n",
              "\n",
              "  return _uploadFilesContinue(outputId);\n",
              "}\n",
              "\n",
              "// This is roughly an async generator (not supported in the browser yet),\n",
              "// where there are multiple asynchronous steps and the Python side is going\n",
              "// to poll for completion of each step.\n",
              "// This uses a Promise to block the python side on completion of each step,\n",
              "// then passes the result of the previous step as the input to the next step.\n",
              "function _uploadFilesContinue(outputId) {\n",
              "  const outputElement = document.getElementById(outputId);\n",
              "  const steps = outputElement.steps;\n",
              "\n",
              "  const next = steps.next(outputElement.lastPromiseValue);\n",
              "  return Promise.resolve(next.value.promise).then((value) => {\n",
              "    // Cache the last promise value to make it available to the next\n",
              "    // step of the generator.\n",
              "    outputElement.lastPromiseValue = value;\n",
              "    return next.value.response;\n",
              "  });\n",
              "}\n",
              "\n",
              "/**\n",
              " * Generator function which is called between each async step of the upload\n",
              " * process.\n",
              " * @param {string} inputId Element ID of the input file picker element.\n",
              " * @param {string} outputId Element ID of the output display.\n",
              " * @return {!Iterable<!Object>} Iterable of next steps.\n",
              " */\n",
              "function* uploadFilesStep(inputId, outputId) {\n",
              "  const inputElement = document.getElementById(inputId);\n",
              "  inputElement.disabled = false;\n",
              "\n",
              "  const outputElement = document.getElementById(outputId);\n",
              "  outputElement.innerHTML = '';\n",
              "\n",
              "  const pickedPromise = new Promise((resolve) => {\n",
              "    inputElement.addEventListener('change', (e) => {\n",
              "      resolve(e.target.files);\n",
              "    });\n",
              "  });\n",
              "\n",
              "  const cancel = document.createElement('button');\n",
              "  inputElement.parentElement.appendChild(cancel);\n",
              "  cancel.textContent = 'Cancel upload';\n",
              "  const cancelPromise = new Promise((resolve) => {\n",
              "    cancel.onclick = () => {\n",
              "      resolve(null);\n",
              "    };\n",
              "  });\n",
              "\n",
              "  // Wait for the user to pick the files.\n",
              "  const files = yield {\n",
              "    promise: Promise.race([pickedPromise, cancelPromise]),\n",
              "    response: {\n",
              "      action: 'starting',\n",
              "    }\n",
              "  };\n",
              "\n",
              "  cancel.remove();\n",
              "\n",
              "  // Disable the input element since further picks are not allowed.\n",
              "  inputElement.disabled = true;\n",
              "\n",
              "  if (!files) {\n",
              "    return {\n",
              "      response: {\n",
              "        action: 'complete',\n",
              "      }\n",
              "    };\n",
              "  }\n",
              "\n",
              "  for (const file of files) {\n",
              "    const li = document.createElement('li');\n",
              "    li.append(span(file.name, {fontWeight: 'bold'}));\n",
              "    li.append(span(\n",
              "        `(${file.type || 'n/a'}) - ${file.size} bytes, ` +\n",
              "        `last modified: ${\n",
              "            file.lastModifiedDate ? file.lastModifiedDate.toLocaleDateString() :\n",
              "                                    'n/a'} - `));\n",
              "    const percent = span('0% done');\n",
              "    li.appendChild(percent);\n",
              "\n",
              "    outputElement.appendChild(li);\n",
              "\n",
              "    const fileDataPromise = new Promise((resolve) => {\n",
              "      const reader = new FileReader();\n",
              "      reader.onload = (e) => {\n",
              "        resolve(e.target.result);\n",
              "      };\n",
              "      reader.readAsArrayBuffer(file);\n",
              "    });\n",
              "    // Wait for the data to be ready.\n",
              "    let fileData = yield {\n",
              "      promise: fileDataPromise,\n",
              "      response: {\n",
              "        action: 'continue',\n",
              "      }\n",
              "    };\n",
              "\n",
              "    // Use a chunked sending to avoid message size limits. See b/62115660.\n",
              "    let position = 0;\n",
              "    do {\n",
              "      const length = Math.min(fileData.byteLength - position, MAX_PAYLOAD_SIZE);\n",
              "      const chunk = new Uint8Array(fileData, position, length);\n",
              "      position += length;\n",
              "\n",
              "      const base64 = btoa(String.fromCharCode.apply(null, chunk));\n",
              "      yield {\n",
              "        response: {\n",
              "          action: 'append',\n",
              "          file: file.name,\n",
              "          data: base64,\n",
              "        },\n",
              "      };\n",
              "\n",
              "      let percentDone = fileData.byteLength === 0 ?\n",
              "          100 :\n",
              "          Math.round((position / fileData.byteLength) * 100);\n",
              "      percent.textContent = `${percentDone}% done`;\n",
              "\n",
              "    } while (position < fileData.byteLength);\n",
              "  }\n",
              "\n",
              "  // All done.\n",
              "  yield {\n",
              "    response: {\n",
              "      action: 'complete',\n",
              "    }\n",
              "  };\n",
              "}\n",
              "\n",
              "scope.google = scope.google || {};\n",
              "scope.google.colab = scope.google.colab || {};\n",
              "scope.google.colab._files = {\n",
              "  _uploadFiles,\n",
              "  _uploadFilesContinue,\n",
              "};\n",
              "})(self);\n",
              "</script> "
            ]
          },
          "metadata": {}
        },
        {
          "output_type": "stream",
          "name": "stdout",
          "text": [
            "Saving текст.txt to текст.txt\n",
            "User uploaded file \"текст.txt\" with length 4359 bytes\n"
          ]
        }
      ],
      "source": [
        "# Загрузить любой файл с компьютера в google.colab\n",
        "from google.colab import files\n",
        "uploaded = files.upload()\n",
        "for fn in uploaded.keys():\n",
        " print('User uploaded file \"{name}\" with length {length} bytes'.format(name=fn, length=len(uploaded[fn])))"
      ]
    },
    {
      "cell_type": "code",
      "source": [
        "!pip install natasha\n",
        "import natasha as nt"
      ],
      "metadata": {
        "id": "UwAeRSeXUnb3"
      },
      "execution_count": null,
      "outputs": []
    },
    {
      "cell_type": "code",
      "source": [
        "segmenter = nt.Segmenter()\n",
        "morph_vocab = nt.MorphVocab()\n",
        "emb = nt.NewsEmbedding()\n",
        "morph_tagger = nt.NewsMorphTagger(emb)\n",
        "syntax_parser = nt.NewsSyntaxParser(emb)\n",
        "ner_tagger = nt.NewsNERTagger(emb)\n",
        "names_extractor = nt.NamesExtractor(morph_vocab)\n",
        "dates_extractor = nt.DatesExtractor(morph_vocab)\n",
        "money_extractor = nt.MoneyExtractor(morph_vocab)\n",
        "addr_extractor = nt.AddrExtractor(morph_vocab)\n",
        "file = open('текст.txt')\n",
        "text = file.read()\n",
        "print(text)\n"
      ],
      "metadata": {
        "colab": {
          "base_uri": "https://localhost:8080/"
        },
        "id": "PRi4FtaQUc7t",
        "outputId": "3e3da595-306b-480b-d622-e38caef86ed0"
      },
      "execution_count": null,
      "outputs": [
        {
          "output_type": "stream",
          "name": "stdout",
          "text": [
            "Амане начал жить один вскоре после того, как поступил в первый год старшей школы. В квартире справа от него жил ангел.\n",
            "\n",
            "Конечно, \"ангел\" было метафорой. Тем не менее, Махиро Сиина была такой симпатичной и милой и эта метафора действительно ей подходила.\n",
            "\n",
            "Ее прямые волосы цвета льна были ухоженными, гладкими и блистали, а чистая белая кожа гладкой и безупречной. У нее был красивый нос, пара больших глаз под длинными бровями и красивые ярко-розовые губы, и в совокупности со всеми этими чертами она обладала нежной, кукольной красотой.\n",
            "\n",
            "Она училась в той же школе и в том же году, что и Аманэ. Он очень часто слышал, как другие говорили о ней. Большинство говорили, что она умная и спортивная девушка.\n",
            "\n",
            "На самом деле, она занимала первое место на каждом экзамене, который они сдавали и так же при этом, всегда получала высокие оценки на уроках физкультуры.\n",
            "\n",
            "Аманэ мало что было известно о ней, так как они учились в разных классах, но если слухи были правдой, она была что ни на есть совершенством.\n",
            "\n",
            "У нее не было явных недостатков. Красивое лицо, отличные оценки, она была скромной и послушной. Неудивительно, что она пользовалась популярностью.\n",
            "\n",
            "Некоторые мальчишки были бы вне себя от радости, если бы им довелось жить рядом с таким идеалом.\n",
            "\n",
            "Несмотря на это, Аманэ не собирался ничего с ней делать и не думал, что когда-нибудь сможет.\n",
            "\n",
            "Конечно, Аманэ тоже чувствовал, что Махиро Шиина была поистине очаровательна.\n",
            "\n",
            "Несмотря на это, они были просто соседями. Аманэ никогда не собирался связываться с ней, и у него ещё не было возможности поговорить с ней.\n",
            "\n",
            "Если он что-то сделает, то вызовет зависть у мальчишек. По правде говоря, если бы они могли поладить, просто живя рядом, мальчишкам, влюбленные в нее, не пришлось бы так страдать.\n",
            "\n",
            "И, кроме того, любовь отличалась от простого увлечения противоположным полом. Что касается Аманэ, то он считал, что Махиро была девушкой больше подходящей для того, чтобы восхищаться ею издалека.\n",
            "\n",
            "По этой причине Аманэ никогда не ожидал сладких и кислых отношений с ней, и естественно не ожидал, что будет с ней как-то связан. Он просто жил рядом с ней, никогда не общаясь.\n",
            "\n",
            "Поэтому, когда он увидел, что она идет одна без зонтика под дождем, он задумался. Что она здесь делает?\n",
            "\n",
            "Дождь был такой сильный, что все уже разбежались по домам. И все же она была здесь, одна в парке между школой и квартирой, на качелях.\n",
            "\n",
            "Отрывок из ранобэ \"Ангел по соседству\", Япония, 2018 г.\n"
          ]
        }
      ]
    },
    {
      "cell_type": "code",
      "source": [
        "doc = nt.Doc(text)\n",
        "doc.segment(segmenter)\n",
        "doc.tag_morph(morph_tagger)\n",
        "doc.parse_syntax(syntax_parser)\n",
        "doc.tag_ner(ner_tagger)\n"
      ],
      "metadata": {
        "id": "kDOBbhlqUvHM"
      },
      "execution_count": null,
      "outputs": []
    },
    {
      "cell_type": "markdown",
      "source": [
        "1. Сегментация: проверьте, как текст бьется на токены. Распечатайте первые пять."
      ],
      "metadata": {
        "id": "ipIicI9wXmcC"
      }
    },
    {
      "cell_type": "code",
      "source": [
        "doc.segment(segmenter)\n",
        "display(doc.tokens[:5])"
      ],
      "metadata": {
        "colab": {
          "base_uri": "https://localhost:8080/",
          "height": 104
        },
        "id": "cxlQUNiUUwAw",
        "outputId": "92e6426d-e808-4fc5-c565-73bc71513a43"
      },
      "execution_count": null,
      "outputs": [
        {
          "output_type": "display_data",
          "data": {
            "text/plain": [
              "[DocToken(stop=5, text='Амане'),\n",
              " DocToken(start=6, stop=11, text='начал'),\n",
              " DocToken(start=12, stop=16, text='жить'),\n",
              " DocToken(start=17, stop=21, text='один'),\n",
              " DocToken(start=22, stop=28, text='вскоре')]"
            ]
          },
          "metadata": {}
        }
      ]
    },
    {
      "cell_type": "markdown",
      "source": [
        "2. Разбейте текст на предложения. Выведите первые пять"
      ],
      "metadata": {
        "id": "YdSejb08Xpeb"
      }
    },
    {
      "cell_type": "code",
      "source": [
        "display(doc.sents[:5])"
      ],
      "metadata": {
        "colab": {
          "base_uri": "https://localhost:8080/",
          "height": 104
        },
        "id": "LhhjAuouU0WQ",
        "outputId": "66ed9bee-b077-4aa3-e118-1f609d3b4f44"
      },
      "execution_count": null,
      "outputs": [
        {
          "output_type": "display_data",
          "data": {
            "text/plain": [
              "[DocSent(stop=81, text='Амане начал жить один вскоре после того, как пост..., tokens=[...]),\n",
              " DocSent(start=82, stop=118, text='В квартире справа от него жил ангел.', tokens=[...]),\n",
              " DocSent(start=120, stop=152, text='Конечно, \"ангел\" было метафорой.', tokens=[...]),\n",
              " DocSent(start=153, stop=253, text='Тем не менее, Махиро Сиина была такой симпатичной..., tokens=[...]),\n",
              " DocSent(start=255, stop=363, text='Ее прямые волосы цвета льна были ухоженными, глад..., tokens=[...])]"
            ]
          },
          "metadata": {}
        }
      ]
    },
    {
      "cell_type": "markdown",
      "source": [
        "3. Сделайте морфологически разбор слов. Посмотрите на разбор первых пяти слов."
      ],
      "metadata": {
        "id": "ERge27M9Xs2X"
      }
    },
    {
      "cell_type": "code",
      "source": [
        "doc.tag_morph(morph_tagger)\n",
        "display(doc.tokens[:5])"
      ],
      "metadata": {
        "colab": {
          "base_uri": "https://localhost:8080/",
          "height": 104
        },
        "id": "cJNN8UlXU6Lc",
        "outputId": "0dc5fb94-e8db-44c9-ced2-df75842df994"
      },
      "execution_count": null,
      "outputs": [
        {
          "output_type": "display_data",
          "data": {
            "text/plain": [
              "[DocToken(stop=5, text='Амане', pos='PROPN', feats=<Anim,Nom,Masc,Sing>),\n",
              " DocToken(start=6, stop=11, text='начал', pos='VERB', feats=<Perf,Masc,Ind,Sing,Past,Fin,Act>),\n",
              " DocToken(start=12, stop=16, text='жить', pos='VERB', feats=<Imp,Inf,Act>),\n",
              " DocToken(start=17, stop=21, text='один', pos='DET', feats=<Nom,Pos,Masc,Sing>),\n",
              " DocToken(start=22, stop=28, text='вскоре', pos='ADV', feats=<Pos>)]"
            ]
          },
          "metadata": {}
        }
      ]
    },
    {
      "cell_type": "markdown",
      "source": [
        "4. Нормализуйте слова и словосочетания – приведите их к правильной форме."
      ],
      "metadata": {
        "id": "Z_zNWpfPXwBP"
      }
    },
    {
      "cell_type": "code",
      "source": [
        "for span in doc.spans:\n",
        " span.normalize(morph_vocab)\n",
        "{_.text: _.normal for _ in doc.spans if _.text != _.normal}"
      ],
      "metadata": {
        "colab": {
          "base_uri": "https://localhost:8080/"
        },
        "id": "AiysHDHJU_qy",
        "outputId": "ec8c7d64-e773-40c0-c445-358dd6ce2fcf"
      },
      "execution_count": null,
      "outputs": [
        {
          "output_type": "execute_result",
          "data": {
            "text/plain": [
              "{}"
            ]
          },
          "metadata": {},
          "execution_count": 22
        }
      ]
    },
    {
      "cell_type": "markdown",
      "source": [
        "5. Приведите каждое слово к начальной форме, то есть лемматизируйте его,\n",
        "используя команду lemmatize."
      ],
      "metadata": {
        "id": "fBbttecTXy_T"
      }
    },
    {
      "cell_type": "code",
      "source": [
        "for token in doc.tokens:\n",
        " token.lemmatize(morph_vocab)\n",
        "\n",
        "{_.text: _.lemma for _ in doc.tokens}\n"
      ],
      "metadata": {
        "colab": {
          "base_uri": "https://localhost:8080/"
        },
        "id": "nZiQ4LiYVJic",
        "outputId": "afe9efd0-2578-4342-f0f3-6874217f4a45"
      },
      "execution_count": null,
      "outputs": [
        {
          "output_type": "execute_result",
          "data": {
            "text/plain": [
              "{'Амане': 'аман',\n",
              " 'начал': 'начать',\n",
              " 'жить': 'жить',\n",
              " 'один': 'один',\n",
              " 'вскоре': 'вскоре',\n",
              " 'после': 'после',\n",
              " 'того': 'тот',\n",
              " ',': ',',\n",
              " 'как': 'как',\n",
              " 'поступил': 'поступить',\n",
              " 'в': 'в',\n",
              " 'первый': 'первый',\n",
              " 'год': 'год',\n",
              " 'старшей': 'старший',\n",
              " 'школы': 'школа',\n",
              " '.': '.',\n",
              " 'В': 'в',\n",
              " 'квартире': 'квартира',\n",
              " 'справа': 'справа',\n",
              " 'от': 'от',\n",
              " 'него': 'он',\n",
              " 'жил': 'жить',\n",
              " 'ангел': 'ангел',\n",
              " 'Конечно': 'конечно',\n",
              " '\"': '\"',\n",
              " 'было': 'быть',\n",
              " 'метафорой': 'метафора',\n",
              " 'Тем': 'тот',\n",
              " 'не': 'не',\n",
              " 'менее': 'менее',\n",
              " 'Махиро': 'махиро',\n",
              " 'Сиина': 'сиина',\n",
              " 'была': 'быть',\n",
              " 'такой': 'такой',\n",
              " 'симпатичной': 'симпатичный',\n",
              " 'и': 'и',\n",
              " 'милой': 'мила',\n",
              " 'эта': 'этот',\n",
              " 'метафора': 'метафора',\n",
              " 'действительно': 'действительно',\n",
              " 'ей': 'она',\n",
              " 'подходила': 'подходить',\n",
              " 'Ее': 'ее',\n",
              " 'прямые': 'прямой',\n",
              " 'волосы': 'волос',\n",
              " 'цвета': 'цвет',\n",
              " 'льна': 'лен',\n",
              " 'были': 'быть',\n",
              " 'ухоженными': 'ухоженный',\n",
              " 'гладкими': 'гладкий',\n",
              " 'блистали': 'блистать',\n",
              " 'а': 'а',\n",
              " 'чистая': 'чистый',\n",
              " 'белая': 'белый',\n",
              " 'кожа': 'кожа',\n",
              " 'гладкой': 'гладкий',\n",
              " 'безупречной': 'безупречный',\n",
              " 'У': 'у',\n",
              " 'нее': 'она',\n",
              " 'был': 'быть',\n",
              " 'красивый': 'красивый',\n",
              " 'нос': 'нос',\n",
              " 'пара': 'пара',\n",
              " 'больших': 'больший',\n",
              " 'глаз': 'глаз',\n",
              " 'под': 'под',\n",
              " 'длинными': 'длинный',\n",
              " 'бровями': 'бровь',\n",
              " 'красивые': 'красивый',\n",
              " 'ярко-розовые': 'ярко-розовый',\n",
              " 'губы': 'губа',\n",
              " 'совокупности': 'совокупность',\n",
              " 'со': 'с',\n",
              " 'всеми': 'весь',\n",
              " 'этими': 'этот',\n",
              " 'чертами': 'черта',\n",
              " 'она': 'она',\n",
              " 'обладала': 'обладать',\n",
              " 'нежной': 'нежный',\n",
              " 'кукольной': 'кукольный',\n",
              " 'красотой': 'красота',\n",
              " 'Она': 'она',\n",
              " 'училась': 'учиться',\n",
              " 'той': 'тот',\n",
              " 'же': 'же',\n",
              " 'школе': 'школа',\n",
              " 'том': 'тот',\n",
              " 'году': 'год',\n",
              " 'что': 'что',\n",
              " 'Аманэ': 'аманэ',\n",
              " 'Он': 'он',\n",
              " 'очень': 'очень',\n",
              " 'часто': 'часто',\n",
              " 'слышал': 'слышать',\n",
              " 'другие': 'другой',\n",
              " 'говорили': 'говорить',\n",
              " 'о': 'о',\n",
              " 'ней': 'она',\n",
              " 'Большинство': 'большинство',\n",
              " 'умная': 'умный',\n",
              " 'спортивная': 'спортивный',\n",
              " 'девушка': 'девушка',\n",
              " 'На': 'на',\n",
              " 'самом': 'сам',\n",
              " 'деле': 'дело',\n",
              " 'занимала': 'занимать',\n",
              " 'первое': 'первый',\n",
              " 'место': 'место',\n",
              " 'на': 'на',\n",
              " 'каждом': 'каждый',\n",
              " 'экзамене': 'экзамен',\n",
              " 'который': 'который',\n",
              " 'они': 'они',\n",
              " 'сдавали': 'сдавать',\n",
              " 'так': 'так',\n",
              " 'при': 'при',\n",
              " 'этом': 'это',\n",
              " 'всегда': 'всегда',\n",
              " 'получала': 'получать',\n",
              " 'высокие': 'высокий',\n",
              " 'оценки': 'оценка',\n",
              " 'уроках': 'урок',\n",
              " 'физкультуры': 'физкультура',\n",
              " 'мало': 'мало',\n",
              " 'известно': 'известный',\n",
              " 'учились': 'учиться',\n",
              " 'разных': 'разный',\n",
              " 'классах': 'класс',\n",
              " 'но': 'но',\n",
              " 'если': 'если',\n",
              " 'слухи': 'слух',\n",
              " 'правдой': 'правда',\n",
              " 'ни': 'ни',\n",
              " 'есть': 'быть',\n",
              " 'совершенством': 'совершенство',\n",
              " 'явных': 'явный',\n",
              " 'недостатков': 'недостаток',\n",
              " 'Красивое': 'красивый',\n",
              " 'лицо': 'лицо',\n",
              " 'отличные': 'отличный',\n",
              " 'скромной': 'скромный',\n",
              " 'послушной': 'послушный',\n",
              " 'Неудивительно': 'неудивительный',\n",
              " 'пользовалась': 'пользоваться',\n",
              " 'популярностью': 'популярность',\n",
              " 'Некоторые': 'некоторый',\n",
              " 'мальчишки': 'мальчишка',\n",
              " 'бы': 'бы',\n",
              " 'вне': 'вне',\n",
              " 'себя': 'себя',\n",
              " 'радости': 'радость',\n",
              " 'им': 'они',\n",
              " 'довелось': 'довестись',\n",
              " 'рядом': 'рядом',\n",
              " 'с': 'с',\n",
              " 'таким': 'такой',\n",
              " 'идеалом': 'идеал',\n",
              " 'Несмотря': 'несмотря',\n",
              " 'это': 'это',\n",
              " 'собирался': 'собираться',\n",
              " 'ничего': 'ничто',\n",
              " 'делать': 'делать',\n",
              " 'думал': 'думать',\n",
              " 'когда-нибудь': 'когда-нибудь',\n",
              " 'сможет': 'смочь',\n",
              " 'тоже': 'тоже',\n",
              " 'чувствовал': 'чувствовать',\n",
              " 'Шиина': 'шиина',\n",
              " 'поистине': 'поистине',\n",
              " 'очаровательна': 'очаровательный',\n",
              " 'просто': 'просто',\n",
              " 'соседями': 'сосед',\n",
              " 'никогда': 'никогда',\n",
              " 'связываться': 'связываться',\n",
              " 'у': 'у',\n",
              " 'ещё': 'еще',\n",
              " 'возможности': 'возможность',\n",
              " 'поговорить': 'поговорить',\n",
              " 'Если': 'если',\n",
              " 'он': 'он',\n",
              " 'что-то': 'что-то',\n",
              " 'сделает': 'сделать',\n",
              " 'то': 'то',\n",
              " 'вызовет': 'вызвать',\n",
              " 'зависть': 'зависть',\n",
              " 'мальчишек': 'мальчишка',\n",
              " 'По': 'по',\n",
              " 'правде': 'правда',\n",
              " 'говоря': 'говорить',\n",
              " 'могли': 'мочь',\n",
              " 'поладить': 'поладить',\n",
              " 'живя': 'живить',\n",
              " 'мальчишкам': 'мальчишка',\n",
              " 'влюбленные': 'влюбить',\n",
              " 'пришлось': 'прийтись',\n",
              " 'страдать': 'страдать',\n",
              " 'И': 'и',\n",
              " 'кроме': 'кроме',\n",
              " 'любовь': 'любовь',\n",
              " 'отличалась': 'отличаться',\n",
              " 'простого': 'простой',\n",
              " 'увлечения': 'увлечение',\n",
              " 'противоположным': 'противоположный',\n",
              " 'полом': 'пол',\n",
              " 'Что': 'что',\n",
              " 'касается': 'касаться',\n",
              " 'считал': 'считать',\n",
              " 'девушкой': 'девушка',\n",
              " 'больше': 'больше',\n",
              " 'подходящей': 'подходящий',\n",
              " 'для': 'для',\n",
              " 'чтобы': 'чтобы',\n",
              " 'восхищаться': 'восхищаться',\n",
              " 'ею': 'она',\n",
              " 'издалека': 'издалека',\n",
              " 'этой': 'этот',\n",
              " 'причине': 'причина',\n",
              " 'ожидал': 'ожидать',\n",
              " 'сладких': 'сладкий',\n",
              " 'кислых': 'кислый',\n",
              " 'отношений': 'отношение',\n",
              " 'естественно': 'естественно',\n",
              " 'будет': 'быть',\n",
              " 'как-то': 'как-то',\n",
              " 'связан': 'связать',\n",
              " 'общаясь': 'общаться',\n",
              " 'Поэтому': 'поэтому',\n",
              " 'когда': 'когда',\n",
              " 'увидел': 'увидеть',\n",
              " 'идет': 'идти',\n",
              " 'одна': 'один',\n",
              " 'без': 'без',\n",
              " 'зонтика': 'зонтик',\n",
              " 'дождем': 'дождь',\n",
              " 'задумался': 'задуматься',\n",
              " 'здесь': 'здесь',\n",
              " 'делает': 'делать',\n",
              " '?': '?',\n",
              " 'Дождь': 'дождь',\n",
              " 'сильный': 'сильный',\n",
              " 'все': 'все',\n",
              " 'уже': 'уже',\n",
              " 'разбежались': 'разбежаться',\n",
              " 'по': 'по',\n",
              " 'домам': 'дом',\n",
              " 'парке': 'парк',\n",
              " 'между': 'между',\n",
              " 'школой': 'школа',\n",
              " 'квартирой': 'квартира',\n",
              " 'качелях': 'качели',\n",
              " 'Отрывок': 'отрывок',\n",
              " 'из': 'из',\n",
              " 'ранобэ': 'ранобэ',\n",
              " 'Ангел': 'ангел',\n",
              " 'соседству': 'соседство',\n",
              " 'Япония': 'япония',\n",
              " '2018': '2018',\n",
              " 'г': 'г'}"
            ]
          },
          "metadata": {},
          "execution_count": 23
        }
      ]
    },
    {
      "cell_type": "markdown",
      "source": [
        "6. Извлеките даты из приговора:"
      ],
      "metadata": {
        "id": "bRAvTqWhX42o"
      }
    },
    {
      "cell_type": "code",
      "source": [
        "matches = dates_extractor(text)\n",
        "facts = [i.fact.as_json for i in matches]\n",
        "facts\n"
      ],
      "metadata": {
        "colab": {
          "base_uri": "https://localhost:8080/"
        },
        "id": "o8xYObL0VQnq",
        "outputId": "deccdb06-1bd2-4e48-cdd6-4631947acdde"
      },
      "execution_count": null,
      "outputs": [
        {
          "output_type": "execute_result",
          "data": {
            "text/plain": [
              "[OrderedDict([('year', 2018)])]"
            ]
          },
          "metadata": {},
          "execution_count": 24
        }
      ]
    },
    {
      "cell_type": "markdown",
      "source": [
        "7. Приведите даты к более удобной форме с помощью f-строк:\n"
      ],
      "metadata": {
        "id": "_6iknpX_X8R5"
      }
    },
    {
      "cell_type": "code",
      "source": [
        "for f in facts:\n",
        " print(f\"{f.get('day')}.{f.get('month')}.{f.get('year')}\")"
      ],
      "metadata": {
        "colab": {
          "base_uri": "https://localhost:8080/"
        },
        "id": "CsUcdd3eVUD7",
        "outputId": "c6eb8f9c-514e-4f95-8d61-39df5f683ac8"
      },
      "execution_count": null,
      "outputs": [
        {
          "output_type": "stream",
          "name": "stdout",
          "text": [
            "None.None.2018\n"
          ]
        }
      ]
    },
    {
      "cell_type": "markdown",
      "source": [
        "8. Извлеките имена в разных написаниях из текста приговора (это фамилия и\n",
        "инициалы).\n"
      ],
      "metadata": {
        "id": "1gF1-30cYAZ-"
      }
    },
    {
      "cell_type": "code",
      "source": [
        "for span in doc.spans:\n",
        " if span.type == nt.PER:\n",
        "  span.extract_fact(names_extractor)\n",
        "names_dict = {_.normal: _.fact.as_dict for _ in doc.spans\n",
        "if _.fact}\n",
        "names_dict"
      ],
      "metadata": {
        "colab": {
          "base_uri": "https://localhost:8080/"
        },
        "id": "vi7EQE3cVYAm",
        "outputId": "203b1739-4229-4977-abe1-1cb02182461c"
      },
      "execution_count": null,
      "outputs": [
        {
          "output_type": "execute_result",
          "data": {
            "text/plain": [
              "{'Амане': {'first': 'Амане'},\n",
              " 'Махиро Сиина': {'first': 'Сиина', 'last': 'Махиро'},\n",
              " 'Аманэ': {'first': 'Аманэ'},\n",
              " 'Махиро Шиина': {'first': 'Шиина', 'last': 'Махиро'}}"
            ]
          },
          "metadata": {},
          "execution_count": 26
        }
      ]
    },
    {
      "cell_type": "markdown",
      "source": [
        "9. С помощью команды keys() получите все ключи словаря и сделайте из него\n",
        "список."
      ],
      "metadata": {
        "id": "AIgUCz6vYDb-"
      }
    },
    {
      "cell_type": "code",
      "source": [
        "list(names_dict.keys())"
      ],
      "metadata": {
        "colab": {
          "base_uri": "https://localhost:8080/"
        },
        "id": "7Gsj83ppVjC2",
        "outputId": "126470a8-0bb6-40c5-ea3c-e66b71090c47"
      },
      "execution_count": null,
      "outputs": [
        {
          "output_type": "execute_result",
          "data": {
            "text/plain": [
              "['Амане', 'Махиро Сиина', 'Аманэ', 'Махиро Шиина']"
            ]
          },
          "metadata": {},
          "execution_count": 27
        }
      ]
    }
  ]
}