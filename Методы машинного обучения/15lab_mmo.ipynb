{
  "nbformat": 4,
  "nbformat_minor": 0,
  "metadata": {
    "colab": {
      "provenance": []
    },
    "kernelspec": {
      "name": "python3",
      "display_name": "Python 3"
    },
    "language_info": {
      "name": "python"
    }
  },
  "cells": [
    {
      "cell_type": "markdown",
      "source": [
        "Давыдов ПИм-231 лаба 15 ммо\n",
        "\n",
        "Задание 1\n",
        "\n",
        "Какое слово написано? нноороосссоообьбтп\n",
        "Напишите программный код для подсчёта количества вхождений каждой\n",
        "буквы в слово и постройте гистограмму числа вхождений букв. Сделайте\n",
        "подписи к рисунку и осям. В подпись к рисунку должно входить\n",
        "определенное Вами слово."
      ],
      "metadata": {
        "id": "MBbOrEqGW-xD"
      }
    },
    {
      "cell_type": "code",
      "execution_count": null,
      "metadata": {
        "colab": {
          "base_uri": "https://localhost:8080/"
        },
        "id": "tyCclGRTW5-K",
        "outputId": "a2007e1a-bfeb-4b94-a1e3-fad5bcbd0c4d"
      },
      "outputs": [
        {
          "output_type": "execute_result",
          "data": {
            "text/plain": [
              "Counter({'a': 3,\n",
              "         ' ': 4,\n",
              "         'w': 2,\n",
              "         'o': 3,\n",
              "         'r': 3,\n",
              "         'd': 3,\n",
              "         'n': 2,\n",
              "         't': 1,\n",
              "         'h': 1,\n",
              "         'e': 1})"
            ]
          },
          "metadata": {},
          "execution_count": 1
        }
      ],
      "source": [
        "import collections\n",
        "s = 'a word and another word'\n",
        "c = collections.Counter(s)\n",
        "c"
      ]
    },
    {
      "cell_type": "code",
      "source": [
        "import matplotlib.pyplot as plt\n",
        "x = list(c.keys())\n",
        "y = list(c.values())\n",
        "plt.bar(x, y)\n",
        "plt.show()"
      ],
      "metadata": {
        "colab": {
          "base_uri": "https://localhost:8080/",
          "height": 430
        },
        "id": "x5C5ElUoXZPN",
        "outputId": "08bfcff6-7b18-442e-f570-593a86612955"
      },
      "execution_count": null,
      "outputs": [
        {
          "output_type": "display_data",
          "data": {
            "text/plain": [
              "<Figure size 640x480 with 1 Axes>"
            ],
            "image/png": "[encoded data removed]"
          },
          "metadata": {}
        }
      ]
    },
    {
      "cell_type": "markdown",
      "source": [
        "Задание 2\n",
        "\n",
        "Разработайте приложение для поиска анаграмм в тексте. На входе у\n",
        "приложения – текстовый файл, на выходе – списки анаграмм.\n"
      ],
      "metadata": {
        "id": "L9uGKFNbXn9w"
      }
    },
    {
      "cell_type": "code",
      "source": [
        "import re\n",
        "\n",
        "# Входной текст\n",
        "text = \"\"\"\n",
        "Аз есмь строка, живу я, мерой остр.\n",
        "За семь морей ростка я вижу рост.\n",
        "Я в мире – сирота.\n",
        "Я в Риме – Ариост.\n",
        "\"\"\"\n",
        "\n",
        "# Функция для удаления пунктуации и создания списка слов\n",
        "def create_word_list(text):\n",
        "    # Удаление пунктуации из текста и приведение к нижнему регистру\n",
        "    text = re.sub(r'[^\\w\\s]', '', text.lower())\n",
        "    # Создание списка слов\n",
        "    word_list = text.split()\n",
        "    return word_list\n",
        "\n",
        "# Создание списка слов из входного текста\n",
        "word_list = create_word_list(text)\n",
        "print(word_list)\n"
      ],
      "metadata": {
        "colab": {
          "base_uri": "https://localhost:8080/"
        },
        "id": "xPQ8j52RXpX1",
        "outputId": "a41f38d0-b331-4ce6-a7b3-7901dc721b7f"
      },
      "execution_count": null,
      "outputs": [
        {
          "output_type": "stream",
          "name": "stdout",
          "text": [
            "['аз', 'есмь', 'строка', 'живу', 'я', 'мерой', 'остр', 'за', 'семь', 'морей', 'ростка', 'я', 'вижу', 'рост', 'я', 'в', 'мире', 'сирота', 'я', 'в', 'риме', 'ариост']\n"
          ]
        }
      ]
    },
    {
      "cell_type": "code",
      "source": [
        "import nltk\n",
        "nltk.download('stopwords')\n"
      ],
      "metadata": {
        "colab": {
          "base_uri": "https://localhost:8080/"
        },
        "id": "rJ7nl0NIY4So",
        "outputId": "f7c175d9-e774-4b83-b831-5b407c821445"
      },
      "execution_count": null,
      "outputs": [
        {
          "output_type": "stream",
          "name": "stderr",
          "text": [
            "[nltk_data] Downloading package stopwords to /root/nltk_data...\n",
            "[nltk_data]   Unzipping corpora/stopwords.zip.\n"
          ]
        },
        {
          "output_type": "execute_result",
          "data": {
            "text/plain": [
              "True"
            ]
          },
          "metadata": {},
          "execution_count": 5
        }
      ]
    },
    {
      "cell_type": "code",
      "source": [
        "from nltk.corpus import stopwords\n",
        "\n",
        "# Загрузка списка стоп-слов для русского языка\n",
        "stop_words = set(stopwords.words('russian'))\n",
        "\n",
        "# Функция для удаления стоп-слов из списка слов\n",
        "def remove_stop_words(word_list):\n",
        "    # Удаление стоп-слов из списка слов\n",
        "    filtered_word_list = [word for word in word_list if word not in stop_words]\n",
        "    return filtered_word_list\n",
        "\n",
        "# Удаление стоп-слов из списка слов\n",
        "filtered_word_list = remove_stop_words(word_list)\n",
        "print(filtered_word_list)\n"
      ],
      "metadata": {
        "colab": {
          "base_uri": "https://localhost:8080/"
        },
        "id": "WVc0aB0OY7Ih",
        "outputId": "4cd5b3b9-6689-4954-f36a-a89ed5effac4"
      },
      "execution_count": null,
      "outputs": [
        {
          "output_type": "stream",
          "name": "stdout",
          "text": [
            "['аз', 'есмь', 'строка', 'живу', 'мерой', 'остр', 'семь', 'морей', 'ростка', 'вижу', 'рост', 'мире', 'сирота', 'риме', 'ариост']\n"
          ]
        }
      ]
    },
    {
      "cell_type": "code",
      "source": [
        "# Создаем список слов\n",
        "word_list = [\"Аз\", \"есмь\", \"строка\", \"живу\", \"мерой\", \"остр\", \"За\", \"семь\", \"ростка\", \"вижу\", \"морей\", \"рост\", \"мире\", \"Риме\", \"сирота\", \"Ариост\"]\n",
        "\n",
        "# Удаление стоп-слов\n",
        "filtered_word_list = remove_stop_words(word_list)\n",
        "\n",
        "# Инициализируем список для хранения анаграмм\n",
        "anagram_list = []\n",
        "\n",
        "# Проходимся по каждому слову в списке\n",
        "for word_1 in filtered_word_list:\n",
        "    # Создаем список для хранения анаграмм для текущего слова\n",
        "    current_anagrams = []\n",
        "    # Сортируем текущее слово\n",
        "    sorted_word_1 = sorted(word_1)\n",
        "    # Проходимся по каждому другому слову в списке\n",
        "    for word_2 in filtered_word_list:\n",
        "        # Если это не одно и то же слово и его отсортированная версия равна отсортированной версии текущего слова\n",
        "        if word_1 != word_2 and sorted(word_1) == sorted(word_2):\n",
        "            # Добавляем его в список анаграмм для текущего слова\n",
        "            current_anagrams.append(word_2)\n",
        "    # Если список анаграмм для текущего слова не пустой\n",
        "    if current_anagrams:\n",
        "        # Добавляем его в общий список анаграмм\n",
        "        anagram_list.append(current_anagrams)\n",
        "\n",
        "# Выводим список анаграмм\n",
        "for anagrams in anagram_list:\n",
        "    print(anagrams)\n"
      ],
      "metadata": {
        "colab": {
          "base_uri": "https://localhost:8080/"
        },
        "id": "e8pBXm-AZAQp",
        "outputId": "be58359d-c2c9-447e-ae75-9684da5ed642"
      },
      "execution_count": null,
      "outputs": [
        {
          "output_type": "stream",
          "name": "stdout",
          "text": [
            "['семь']\n",
            "['ростка']\n",
            "['вижу']\n",
            "['морей']\n",
            "['рост']\n",
            "['есмь']\n",
            "['строка']\n",
            "['живу']\n",
            "['мерой']\n",
            "['остр']\n"
          ]
        }
      ]
    },
    {
      "cell_type": "markdown",
      "source": [
        "Задание 3\n",
        "\n",
        "Разработайте приложение, которое принимает на вход текстовый файл\n",
        "(или просто текст) с обычным текстом и выводит этот же текст, но с\n",
        "перемешанными буквами внутри слов. Первая и последняя буквы каждого\n",
        "слова должны остаться на своих местах."
      ],
      "metadata": {
        "id": "gwztuHKIZWeZ"
      }
    },
    {
      "cell_type": "code",
      "source": [
        "import random\n",
        "\n",
        "def shuffle_word(word):\n",
        "    # Если слово короче или равно 3 символам, просто вернем его, так как первая и последняя буквы останутся на месте\n",
        "    if len(word) <= 3:\n",
        "        return word\n",
        "    else:\n",
        "        # Перемешиваем все символы в слове, кроме первого и последнего\n",
        "        middle_part = list(word[1:-1])\n",
        "        random.shuffle(middle_part)\n",
        "        # Собираем слово заново\n",
        "        shuffled_word = word[0] + ''.join(middle_part) + word[-1]\n",
        "        return shuffled_word\n",
        "\n",
        "def shuffle_text(text):\n",
        "    # Разбиваем текст на слова\n",
        "    words = text.split()\n",
        "    # Перемешиваем каждое слово\n",
        "    shuffled_words = [shuffle_word(word) for word in words]\n",
        "    # Собираем перемешанный текст из перемешанных слов\n",
        "    shuffled_text = ' '.join(shuffled_words)\n",
        "    return shuffled_text\n",
        "\n",
        "# Входной текст\n",
        "input_text = \"По результатам исследований одного английского университета, не имеет значения, в каком порядке расположены буквы в слове. Главное, чтобы первая и последняя буквы были на месте. Остальные буквы могут следовать в полном беспорядке, все равно текст читается без проблем. Причиной этого является то, что мы не читаем каждую букву по отдельности, а все слово целиком.\"\n",
        "\n",
        "# Получаем перемешанный текст\n",
        "shuffled_text = shuffle_text(input_text)\n",
        "\n",
        "# Выводим перемешанный текст\n",
        "print(shuffled_text)\n"
      ],
      "metadata": {
        "colab": {
          "base_uri": "https://localhost:8080/"
        },
        "id": "cw6aNW-wZZrn",
        "outputId": "7024e90f-0e8e-49ac-990f-a59bc1598f04"
      },
      "execution_count": null,
      "outputs": [
        {
          "output_type": "stream",
          "name": "stdout",
          "text": [
            "По рзтауьалтем иссдлонаевий оногдо аснйиглкого увиренстеати, не иемет зчняеиан, в ккаом проякде рноеспожлаы бвкуы в слвео. Гвлоаен, чботы паверя и пнсодяеля бквуы блыи на меест. Оытьансле бувкы моугт сдлаоветь в пнлоом бяоееспкрд, все рнвао ткест четтисая без пмлобер. Прииочнй эгото ялетявся то, что мы не четиам куджаю бвуку по отсднитлеоь, а все совло цеколим.\n"
          ]
        }
      ]
    }
  ]
}