{
  "nbformat": 4,
  "nbformat_minor": 0,
  "metadata": {
    "colab": {
      "provenance": []
    },
    "kernelspec": {
      "name": "python3",
      "display_name": "Python 3"
    },
    "language_info": {
      "name": "python"
    }
  },
  "cells": [
    {
      "cell_type": "markdown",
      "source": [
        "Давыдов Игорь ПИм-231"
      ],
      "metadata": {
        "id": "fSVII3JC0c9U"
      }
    },
    {
      "cell_type": "markdown",
      "source": [
        "1. Дана строка, состоящая ровно из двух слов, разделенных пробелом.\n",
        "Переставьте эти слова местами. Результат запишите в строку и выведите\n",
        "получившуюся строку."
      ],
      "metadata": {
        "id": "RJ-Z26xmqgB9"
      }
    },
    {
      "cell_type": "code",
      "execution_count": null,
      "metadata": {
        "colab": {
          "base_uri": "https://localhost:8080/"
        },
        "id": "xorGSdYCgfEa",
        "outputId": "709e2c3e-e24e-4a78-dd37-c335a99eba46"
      },
      "outputs": [
        {
          "output_type": "stream",
          "name": "stdout",
          "text": [
            "Введите строку из двух слов, разделенных пробелом: приветик здравствуйте\n",
            "Результат: здравствуйте приветик\n"
          ]
        }
      ],
      "source": [
        "# 1 задание\n",
        "# Вводим строку\n",
        "user_str = input(\"Введите строку из двух слов, разделенных пробелом: \")\n",
        "# Делим строку на два слова, если встречаем пробел\n",
        "splitted_str = user_str.split(' ')\n",
        "if len(splitted_str) == 2:\n",
        "    # Если слов в строке действительно 2, то соединяем слова обратно в строку, но в другом порядке\n",
        "    joined_str = splitted_str[1] + ' ' + splitted_str[0]\n",
        "    # Выводим\n",
        "    print(\"Результат:\", joined_str)\n",
        "else:\n",
        "    print(\"Ошибка! Введите ровно два слова, разделенных пробелом.\")\n"
      ]
    },
    {
      "cell_type": "markdown",
      "source": [
        "2. Дан список чисел, введенный с клавиатуры (числа вводятся через пробел).\n",
        "Определите, сколько в нем встречается различных чисел."
      ],
      "metadata": {
        "id": "pmfv6Unwqn1C"
      }
    },
    {
      "cell_type": "code",
      "source": [
        "# 2 задание\n",
        "string_of_numbers = input(\"Введите список чисел: \")\n",
        "# Заносим числа в список\n",
        "list_of_numbers = string_of_numbers.split()\n",
        "# Создаем список уникальных чисел\n",
        "unique_numbers = []\n",
        "# Если числа нет в списке уникальных, то добавляем его туда\n",
        "for num in list_of_numbers:\n",
        "  if num not in unique_numbers:\n",
        "    unique_numbers.append(num)\n",
        "# Считаем сколько уникальных(различных) чисел и выводим\n",
        "how_much_unique = len(unique_numbers)\n",
        "print(f\"Количество различных чисел: {how_much_unique}\")\n"
      ],
      "metadata": {
        "colab": {
          "base_uri": "https://localhost:8080/"
        },
        "id": "mAWouquNghxg",
        "outputId": "f5bcd37a-9715-4734-ea8c-4899d814b5e6"
      },
      "execution_count": null,
      "outputs": [
        {
          "output_type": "stream",
          "name": "stdout",
          "text": [
            "Введите список чисел: 6 6 6 6 8 5\n",
            "Количество различных чисел: 3\n"
          ]
        }
      ]
    },
    {
      "cell_type": "markdown",
      "source": [
        "3. Пользователь вводит слово. Проверьте является ли это слово словом-перевертышем. Перевертыши (палиндромы) - слова, которые одинаково\n",
        "читаются слева направо и справа налево.\n"
      ],
      "metadata": {
        "id": "dGrCYkhnqsUn"
      }
    },
    {
      "cell_type": "code",
      "source": [
        "# 3 задание\n",
        "word = input(\"Введите слово: \")\n",
        "# Создаем обратную версию слова\n",
        "reverse_word = word[::-1]\n",
        "# Проверяем, является ли слово палиндромом\n",
        "if word == reverse_word:\n",
        "  print(\"Слово является палиндромом.\")\n",
        "else:\n",
        "  print(\"Слово не является палиндромом.\")\n"
      ],
      "metadata": {
        "colab": {
          "base_uri": "https://localhost:8080/"
        },
        "id": "HzzI0dZFnPcY",
        "outputId": "f115ee78-74e6-452c-d38a-5fbaa08401ef"
      },
      "execution_count": null,
      "outputs": [
        {
          "output_type": "stream",
          "name": "stdout",
          "text": [
            "Введите слово: абоба\n",
            "Слово является палиндромом.\n"
          ]
        }
      ]
    },
    {
      "cell_type": "markdown",
      "source": [
        "4. Пользователь вводит с клавиатуры произвольное количество чисел (вводить\n",
        "можно через пробел как в задании №2 или считывать числа в цикле, пока не\n",
        "будет введено слово «stop»). Программа должна вернуть пользователю сумму\n",
        "введенных им чисел."
      ],
      "metadata": {
        "id": "2dOsNyOkqx9J"
      }
    },
    {
      "cell_type": "code",
      "source": [
        "# 4 задание\n",
        "sum = 0\n",
        "while True:\n",
        "  user_input = input(\"Введите число (или 'stop' для завершения): \")\n",
        "  # Если введено stop то завершаем цикл\n",
        "  if user_input.lower() == 'stop':\n",
        "    break\n",
        "  # Инициализируем переменную для введенного числа и прибавляем к сумме\n",
        "  number = int(user_input)\n",
        "  sum = sum + number\n",
        "\n",
        "print(f\"Сумма введенных чисел: {sum}\")\n"
      ],
      "metadata": {
        "colab": {
          "base_uri": "https://localhost:8080/"
        },
        "id": "afa6s4a0q1nO",
        "outputId": "a15b0e0a-3be8-4de2-d699-5f1973ad6709"
      },
      "execution_count": null,
      "outputs": [
        {
          "output_type": "stream",
          "name": "stdout",
          "text": [
            "Введите число (или 'stop' для завершения): 6\n",
            "Введите число (или 'stop' для завершения): 7\n",
            "Введите число (или 'stop' для завершения): 4\n",
            "Введите число (или 'stop' для завершения): 5\n",
            "Введите число (или 'stop' для завершения): stop\n",
            "Сумма введенных чисел: 22\n"
          ]
        }
      ]
    },
    {
      "cell_type": "markdown",
      "source": [
        "5. Дано число, введенное c клавиатуры. Определите сумму квадратов\n",
        "нечетных цифр в числе."
      ],
      "metadata": {
        "id": "pG54SU4ltIMO"
      }
    },
    {
      "cell_type": "code",
      "source": [
        "# 5 задание\n",
        "number_user = input(\"Введите число: \")\n",
        "sum_squares = 0\n",
        "for digit_char in number_user:\n",
        "  digit = int(digit_char)\n",
        "  if digit % 2 != 0:\n",
        "    sum_squares += digit ** 2\n",
        "\n",
        "print(f\"Сумма квадратов нечетных чисел: {sum_squares}\")\n"
      ],
      "metadata": {
        "colab": {
          "base_uri": "https://localhost:8080/"
        },
        "id": "NBsSmeWxtNrp",
        "outputId": "3aae5372-22f5-4922-b475-b48671c2a4db"
      },
      "execution_count": null,
      "outputs": [
        {
          "output_type": "stream",
          "name": "stdout",
          "text": [
            "Введите число: 2354\n",
            "Сумма квадратов нечетных чисел: 34\n"
          ]
        }
      ]
    },
    {
      "cell_type": "markdown",
      "source": [
        "6. Рассмотрим строки, состоящие только из заглавных английских букв.\n",
        "Например, рассмотрим строку AAAABCCCCCDDDD. Длина этой строки\n",
        "равна 14. Поскольку строка состоит только из английских букв,\n",
        "повторяющиеся символы могут быть удалены и заменены числами,\n",
        "определяющими количество повторений. Таким образом, данная строка может\n",
        "быть представлена как 4AB5C4D. Длина такой строки 7. Описанный метод мы\n",
        "назовем упаковкой строки. Напишите программу, которая берет упакованную\n",
        "строчку и восстанавливает по ней исходную строку. Каждый символ\n",
        "повторяется не более 9 раз. Максимальная длина строки не превышает 80\n",
        "(проверку делать не нужно, данное ограничение просто нужно иметь ввиду и\n",
        "не вводить строку более чем из 80 символов)."
      ],
      "metadata": {
        "id": "1t2IrAuLumjr"
      }
    },
    {
      "cell_type": "code",
      "source": [
        "# 6 задание\n",
        "def decode_string(encoded_str):\n",
        "  decoded_str = []\n",
        "  i = 0\n",
        "  while i < len(encoded_str):\n",
        "      char = encoded_str[i]\n",
        "      if char.isdigit():\n",
        "          # Если символ - цифра, собираем число, пока не встретим букву\n",
        "          count = \"\"\n",
        "          while i < len(encoded_str) and encoded_str[i].isdigit():\n",
        "              count += encoded_str[i]\n",
        "              i += 1\n",
        "          count = int(count)\n",
        "          char = encoded_str[i]\n",
        "          decoded_str.append(char * count)\n",
        "      else:\n",
        "          # Если символ - буква, добавляем его к результату\n",
        "          decoded_str.append(char)\n",
        "      i += 1\n",
        "  return ''.join(decoded_str)\n",
        "\n",
        "\n",
        "encoded_str = \"9AB5C3D\"\n",
        "decoded_str = decode_string(encoded_str)\n",
        "print(\"Исходная строка:\", decoded_str)\n"
      ],
      "metadata": {
        "colab": {
          "base_uri": "https://localhost:8080/"
        },
        "id": "5Q6wg44uuq2i",
        "outputId": "0db7a6ee-6156-4a19-adca-9ce2ab511d70"
      },
      "execution_count": null,
      "outputs": [
        {
          "output_type": "stream",
          "name": "stdout",
          "text": [
            "Исходная строка: AAAAAAAAABCCCCCDDD\n"
          ]
        }
      ]
    },
    {
      "cell_type": "markdown",
      "source": [
        "7. Напишите функцию, которая генерирует пароль (случайным образом).\n",
        "Количество символов в пароле задает пользователь. Для решения данной\n",
        "задачи можно воспользоваться модулем random, функций\n",
        "random.choice(sequence), которая возвращает случайный элемент непустой\n",
        "последовательности sequence (можно в качестве последовательности\n",
        "использовать список)."
      ],
      "metadata": {
        "id": "-tZfrTx9w663"
      }
    },
    {
      "cell_type": "code",
      "source": [
        "# 7 задание\n",
        "import random\n",
        "import string\n",
        "\n",
        "def gen_password(len_of_pass):\n",
        "  # Указываем какие символы будут использоваться с помощью модуля string\n",
        "  characters = string.ascii_letters + string.digits + string.punctuation\n",
        "  # Генерируем пароль методом случайного выбора символа из ранее указанных с помощью цикла for\n",
        "  password = ''.join(random.choice(characters) for i in range(len_of_pass))\n",
        "  return password\n",
        "\n",
        "\n",
        "len_of_pass = int(input(\"Введите длину пароля: \"))\n",
        "password = gen_password(len_of_pass)\n",
        "print(f\"Сгенерированный пароль: {password}\")\n",
        "\n"
      ],
      "metadata": {
        "colab": {
          "base_uri": "https://localhost:8080/"
        },
        "id": "GeITkH1Nw_9b",
        "outputId": "bc15c646-8e8e-4857-9a93-8bf86a9f1648"
      },
      "execution_count": null,
      "outputs": [
        {
          "output_type": "stream",
          "name": "stdout",
          "text": [
            "Введите длину пароля: 15\n",
            "Сгенерированный пароль: ?4{ZN2JO_\"eWfz>\n"
          ]
        }
      ]
    }
  ]
}