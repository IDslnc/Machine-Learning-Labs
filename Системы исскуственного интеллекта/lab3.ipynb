{
  "nbformat": 4,
  "nbformat_minor": 0,
  "metadata": {
    "colab": {
      "provenance": []
    },
    "kernelspec": {
      "name": "python3",
      "display_name": "Python 3"
    },
    "language_info": {
      "name": "python"
    }
  },
  "cells": [
    {
      "cell_type": "markdown",
      "source": [
        "Давыдов ПИм-231"
      ],
      "metadata": {
        "id": "xLN_mCrU0Gcb"
      }
    },
    {
      "cell_type": "code",
      "execution_count": null,
      "metadata": {
        "id": "NdP3fogKk6DP"
      },
      "outputs": [],
      "source": [
        "import pandas as pd"
      ]
    },
    {
      "cell_type": "markdown",
      "source": [
        "1. Создайте объект Series, значениями которого являются целые числа от 1 до\n",
        "5, а индексами символы 'a', 'b', 'c', 'd', 'e'.\n"
      ],
      "metadata": {
        "id": "FTnt5ATClEch"
      }
    },
    {
      "cell_type": "code",
      "source": [
        "series_data = pd.Series([1, 2, 3, 4, 5], index=['a', 'b', 'c', 'd', 'e'])\n",
        "print(series_data)"
      ],
      "metadata": {
        "colab": {
          "base_uri": "https://localhost:8080/"
        },
        "id": "IvV6xBcMlJnm",
        "outputId": "00b5ea9b-2117-4853-cbae-61f7c2f4f95d"
      },
      "execution_count": null,
      "outputs": [
        {
          "output_type": "stream",
          "name": "stdout",
          "text": [
            "a    1\n",
            "b    2\n",
            "c    3\n",
            "d    4\n",
            "e    5\n",
            "dtype: int64\n"
          ]
        }
      ]
    },
    {
      "cell_type": "markdown",
      "source": [
        "2. С помощью обращения по явному индексу получите значение 4.\n"
      ],
      "metadata": {
        "id": "sMCwUV1ClnZK"
      }
    },
    {
      "cell_type": "code",
      "source": [
        "fourth_value = series_data['d']\n",
        "print(fourth_value)"
      ],
      "metadata": {
        "colab": {
          "base_uri": "https://localhost:8080/"
        },
        "id": "Cr8bmw4MlqNC",
        "outputId": "73c9b7f5-0b6f-48b5-f418-20e12e48a66b"
      },
      "execution_count": null,
      "outputs": [
        {
          "output_type": "stream",
          "name": "stdout",
          "text": [
            "4\n"
          ]
        }
      ]
    },
    {
      "cell_type": "markdown",
      "source": [
        "3. С помощью обращения по неявному индексу получите значение 2."
      ],
      "metadata": {
        "id": "zA0f_IE9mEWF"
      }
    },
    {
      "cell_type": "code",
      "source": [
        "second_value = series_data[1]\n",
        "print(second_value)"
      ],
      "metadata": {
        "colab": {
          "base_uri": "https://localhost:8080/"
        },
        "id": "0ab5q_QwmY4V",
        "outputId": "c6fd6813-74e4-45c7-b3b8-e33a29b27092"
      },
      "execution_count": null,
      "outputs": [
        {
          "output_type": "stream",
          "name": "stdout",
          "text": [
            "2\n"
          ]
        }
      ]
    },
    {
      "cell_type": "markdown",
      "source": [
        "4. Добавьте в серию новый элемент."
      ],
      "metadata": {
        "id": "YaMjRLqfmqOV"
      }
    },
    {
      "cell_type": "code",
      "source": [
        "series_data['f'] = 6\n",
        "print(series_data)"
      ],
      "metadata": {
        "colab": {
          "base_uri": "https://localhost:8080/"
        },
        "id": "LcQRbNTMm5w_",
        "outputId": "337cb8a0-25b4-47e5-ee83-665c922a4b1b"
      },
      "execution_count": null,
      "outputs": [
        {
          "output_type": "stream",
          "name": "stdout",
          "text": [
            "a    1\n",
            "b    2\n",
            "c    3\n",
            "d    4\n",
            "e    5\n",
            "f    6\n",
            "dtype: int64\n"
          ]
        }
      ]
    },
    {
      "cell_type": "markdown",
      "source": [
        "5. Используя операцию среза, получите значения 3, 4, 5."
      ],
      "metadata": {
        "id": "AFd1zahlnCXG"
      }
    },
    {
      "cell_type": "code",
      "source": [
        "sliced_data = series_data['c':'e']\n",
        "print(sliced_data)"
      ],
      "metadata": {
        "colab": {
          "base_uri": "https://localhost:8080/"
        },
        "id": "2ttciRK9nXYh",
        "outputId": "1052a81c-db3d-41f5-8446-028053f6237d"
      },
      "execution_count": null,
      "outputs": [
        {
          "output_type": "stream",
          "name": "stdout",
          "text": [
            "c    3\n",
            "d    4\n",
            "e    5\n",
            "dtype: int64\n"
          ]
        }
      ]
    },
    {
      "cell_type": "markdown",
      "source": [
        "6. Создайте объект DataFrame из списка [[1, 2], [5, 3], [3.7, 4.8]] с именами\n",
        "столбцов col1 и col2."
      ],
      "metadata": {
        "id": "U7HDwAflnnn7"
      }
    },
    {
      "cell_type": "code",
      "source": [
        "data = [[1, 2], [5, 3], [3.7, 4.8]]\n",
        "df = pd.DataFrame(data, columns=['col1', 'col2'])\n",
        "print(df)"
      ],
      "metadata": {
        "colab": {
          "base_uri": "https://localhost:8080/"
        },
        "id": "ZW7ixeBYnyKI",
        "outputId": "9dde5305-444f-4cba-f954-ace844cb4755"
      },
      "execution_count": null,
      "outputs": [
        {
          "output_type": "stream",
          "name": "stdout",
          "text": [
            "   col1  col2\n",
            "0   1.0   2.0\n",
            "1   5.0   3.0\n",
            "2   3.7   4.8\n"
          ]
        }
      ]
    },
    {
      "cell_type": "markdown",
      "source": [
        "7. Используя операцию индексации, получите элемент 3.7."
      ],
      "metadata": {
        "id": "I0i4iwHvn_yy"
      }
    },
    {
      "cell_type": "code",
      "source": [
        "three_seven = df['col1'][2]\n",
        "print(three_seven)"
      ],
      "metadata": {
        "colab": {
          "base_uri": "https://localhost:8080/"
        },
        "id": "VGM1ptI9oGxo",
        "outputId": "a36fd139-ecfb-409d-e9f6-d737cb426196"
      },
      "execution_count": null,
      "outputs": [
        {
          "output_type": "stream",
          "name": "stdout",
          "text": [
            "3.7\n"
          ]
        }
      ]
    },
    {
      "cell_type": "markdown",
      "source": [
        "8. Измените элемент 3 на 9."
      ],
      "metadata": {
        "id": "wwlTsP1CoXxH"
      }
    },
    {
      "cell_type": "code",
      "source": [
        "df['col2'][1] = 9\n",
        "print(df)"
      ],
      "metadata": {
        "colab": {
          "base_uri": "https://localhost:8080/"
        },
        "id": "SLwrzpfGoa4U",
        "outputId": "2d0bbeeb-d6eb-453f-b993-bd34e4f8c92f"
      },
      "execution_count": null,
      "outputs": [
        {
          "output_type": "stream",
          "name": "stdout",
          "text": [
            "   col1  col2\n",
            "0   1.0   2.0\n",
            "1   5.0   9.0\n",
            "2   3.7   4.8\n"
          ]
        }
      ]
    },
    {
      "cell_type": "markdown",
      "source": [
        "9. Используя операцию среза, получите строки с индексами 1 и 2"
      ],
      "metadata": {
        "id": "5s3qkPI4oo9_"
      }
    },
    {
      "cell_type": "code",
      "source": [
        "sliced_rows = df.iloc[1:3]\n",
        "print(sliced_rows)"
      ],
      "metadata": {
        "colab": {
          "base_uri": "https://localhost:8080/"
        },
        "id": "obCG2HB4oplp",
        "outputId": "d76e8422-b238-4c09-b06a-565f1baf328e"
      },
      "execution_count": null,
      "outputs": [
        {
          "output_type": "stream",
          "name": "stdout",
          "text": [
            "   col1  col2\n",
            "1   5.0   9.0\n",
            "2   3.7   4.8\n"
          ]
        }
      ]
    },
    {
      "cell_type": "markdown",
      "source": [
        "10. Добавьте столбец col3, значения которого – результат поэлементного\n",
        "перемножения col1 и col2."
      ],
      "metadata": {
        "id": "t1Ox7-aepi2l"
      }
    },
    {
      "cell_type": "code",
      "source": [
        "df['col3'] = df['col1'] * df['col2']\n",
        "print(df)"
      ],
      "metadata": {
        "colab": {
          "base_uri": "https://localhost:8080/"
        },
        "id": "LLdsCb8spndc",
        "outputId": "9b6b9737-4499-4bcf-cbdc-f55cfd7206ed"
      },
      "execution_count": null,
      "outputs": [
        {
          "output_type": "stream",
          "name": "stdout",
          "text": [
            "   col1  col2   col3\n",
            "0   1.0   2.0   2.00\n",
            "1   5.0   9.0  45.00\n",
            "2   3.7   4.8  17.76\n"
          ]
        }
      ]
    }
  ]
}