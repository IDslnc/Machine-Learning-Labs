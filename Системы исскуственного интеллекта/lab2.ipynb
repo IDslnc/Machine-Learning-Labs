{
  "nbformat": 4,
  "nbformat_minor": 0,
  "metadata": {
    "colab": {
      "provenance": []
    },
    "kernelspec": {
      "name": "python3",
      "display_name": "Python 3"
    },
    "language_info": {
      "name": "python"
    }
  },
  "cells": [
    {
      "cell_type": "markdown",
      "source": [
        "Давыдов ПИм-231"
      ],
      "metadata": {
        "id": "PjzqmQmChuRk"
      }
    },
    {
      "cell_type": "markdown",
      "source": [
        "1. Создайте массив arr_1 размером 3х4, все элементы которого равны 3."
      ],
      "metadata": {
        "id": "VZ3Uer9EVds1"
      }
    },
    {
      "cell_type": "code",
      "execution_count": null,
      "metadata": {
        "id": "JVnW4UdNVaeS"
      },
      "outputs": [],
      "source": [
        "import numpy as np"
      ]
    },
    {
      "cell_type": "code",
      "source": [
        "arr_1 = np.full((3,4), 3)\n",
        "print(arr_1)"
      ],
      "metadata": {
        "colab": {
          "base_uri": "https://localhost:8080/"
        },
        "id": "0ZbSAgVrWOmZ",
        "outputId": "fa98fb66-d965-46fb-c637-c6e138f0b277"
      },
      "execution_count": null,
      "outputs": [
        {
          "output_type": "stream",
          "name": "stdout",
          "text": [
            "[[3 3 3 3]\n",
            " [3 3 3 3]\n",
            " [3 3 3 3]]\n"
          ]
        }
      ]
    },
    {
      "cell_type": "markdown",
      "source": [
        "2. Создайте массив arr_2, заполненный случайными целыми числами от 0 до\n",
        "9, размером 2х4."
      ],
      "metadata": {
        "id": "0AAHZQkNW-8I"
      }
    },
    {
      "cell_type": "code",
      "source": [
        "arr_2 = np.random.randint(0, 9, (2,4))\n",
        "print(arr_2)"
      ],
      "metadata": {
        "colab": {
          "base_uri": "https://localhost:8080/"
        },
        "id": "f0SEVxxDXDWE",
        "outputId": "ec2ae49d-a0cf-4e6a-d4a7-27decfbc81f0"
      },
      "execution_count": null,
      "outputs": [
        {
          "output_type": "stream",
          "name": "stdout",
          "text": [
            "[[7 2 1 2]\n",
            " [6 1 8 1]]\n"
          ]
        }
      ]
    },
    {
      "cell_type": "markdown",
      "source": [
        "3. Выведите на экран количество элементов в созданных массивах arr_1 и\n",
        "arr_2."
      ],
      "metadata": {
        "id": "DXEqZ4wsXmvq"
      }
    },
    {
      "cell_type": "code",
      "source": [
        "print(f\"Размер arr_1 {arr_1.size}\")\n",
        "print(f\"Размер arr_2 {arr_2.size}\")"
      ],
      "metadata": {
        "colab": {
          "base_uri": "https://localhost:8080/"
        },
        "id": "0bmAX-HuXnWp",
        "outputId": "d6022d2f-3ed6-4e85-9073-acb89d77509e"
      },
      "execution_count": null,
      "outputs": [
        {
          "output_type": "stream",
          "name": "stdout",
          "text": [
            "Размер arr_1 12\n",
            "Размер arr_2 8\n"
          ]
        }
      ]
    },
    {
      "cell_type": "markdown",
      "source": [
        "4. Соедините массивы arr_1 и arr_2 по нулевой оси."
      ],
      "metadata": {
        "id": "O2NJYoezaU77"
      }
    },
    {
      "cell_type": "code",
      "source": [
        "arr_combined = np.concatenate((arr_1, arr_2), axis=0)\n",
        "print(arr_combined)"
      ],
      "metadata": {
        "colab": {
          "base_uri": "https://localhost:8080/"
        },
        "id": "rXT1A83gaWMw",
        "outputId": "5dfa31f3-64c5-4cc8-9f22-d0ce57ea4709"
      },
      "execution_count": null,
      "outputs": [
        {
          "output_type": "stream",
          "name": "stdout",
          "text": [
            "[[3 3 3 3]\n",
            " [3 3 3 3]\n",
            " [3 3 3 3]\n",
            " [7 2 1 2]\n",
            " [6 1 8 1]]\n"
          ]
        }
      ]
    },
    {
      "cell_type": "markdown",
      "source": [
        "5. Создайте массив arr_3 из кортежа чисел (1, 8, 6, 5, 8, 3) с помощью функции\n",
        "np.array()."
      ],
      "metadata": {
        "id": "jb9yVWMeakwf"
      }
    },
    {
      "cell_type": "code",
      "source": [
        "arr_3 = np.array([1, 8, 6, 5, 8, 3])\n",
        "print(arr_3)"
      ],
      "metadata": {
        "colab": {
          "base_uri": "https://localhost:8080/"
        },
        "id": "TPEGppJuamb3",
        "outputId": "6e0488da-a224-4382-a1b9-d5ecae637b12"
      },
      "execution_count": null,
      "outputs": [
        {
          "output_type": "stream",
          "name": "stdout",
          "text": [
            "[1 8 6 5 8 3]\n"
          ]
        }
      ]
    },
    {
      "cell_type": "markdown",
      "source": [
        "6. Умножьте каждый элемент массива arr_3 на число 3 и прибавьте к каждому\n",
        "элементу 1. Результат запишите в новый массив arr_4."
      ],
      "metadata": {
        "id": "xh4Vv22SbG5J"
      }
    },
    {
      "cell_type": "code",
      "source": [
        "arr_4 = arr_3 * 3 + 1\n",
        "print(arr_4)"
      ],
      "metadata": {
        "colab": {
          "base_uri": "https://localhost:8080/"
        },
        "id": "mVXPmG5YbHwM",
        "outputId": "6277d393-c66a-4017-8f5d-abc7674d8b6f"
      },
      "execution_count": null,
      "outputs": [
        {
          "output_type": "stream",
          "name": "stdout",
          "text": [
            "[ 4 25 19 16 25 10]\n"
          ]
        }
      ]
    },
    {
      "cell_type": "markdown",
      "source": [
        "7. Преобразуйте масиив arr_3 к двумерному массиву 2х3. Результат запишите\n",
        "в массив arr_5."
      ],
      "metadata": {
        "id": "ffje65-CbhkO"
      }
    },
    {
      "cell_type": "code",
      "source": [
        "arr_5 = arr_3.reshape(2, 3)\n",
        "print(arr_5)"
      ],
      "metadata": {
        "colab": {
          "base_uri": "https://localhost:8080/"
        },
        "id": "LSrO_APbbi15",
        "outputId": "8bfe5f65-11a0-486f-f072-a0ffca04dd34"
      },
      "execution_count": null,
      "outputs": [
        {
          "output_type": "stream",
          "name": "stdout",
          "text": [
            "[[1 8 6]\n",
            " [5 8 3]]\n"
          ]
        }
      ]
    },
    {
      "cell_type": "markdown",
      "source": [
        "8. Определите минимальные элементы массива arr_5 вдоль первой оси."
      ],
      "metadata": {
        "id": "wzZdwEvqb2oq"
      }
    },
    {
      "cell_type": "code",
      "source": [
        "min_elements = np.min(arr_5, axis=1)\n",
        "print(min_elements)"
      ],
      "metadata": {
        "colab": {
          "base_uri": "https://localhost:8080/"
        },
        "id": "QkI5YUDob3h-",
        "outputId": "d58f5678-d585-4c08-91fb-02d4e70f4ae1"
      },
      "execution_count": null,
      "outputs": [
        {
          "output_type": "stream",
          "name": "stdout",
          "text": [
            "[1 3]\n"
          ]
        }
      ]
    },
    {
      "cell_type": "markdown",
      "source": [
        "9. Вычислите среднее арифметическое всех элементов массива arr_5."
      ],
      "metadata": {
        "id": "vCDHkouCcK-C"
      }
    },
    {
      "cell_type": "code",
      "source": [
        "mean_value = np.mean(arr_5)\n",
        "print(mean_value)"
      ],
      "metadata": {
        "colab": {
          "base_uri": "https://localhost:8080/"
        },
        "id": "vrSIBFUAcMPW",
        "outputId": "5c6cee75-b409-4c06-8243-58e5d65bd925"
      },
      "execution_count": null,
      "outputs": [
        {
          "output_type": "stream",
          "name": "stdout",
          "text": [
            "5.166666666666667\n"
          ]
        }
      ]
    },
    {
      "cell_type": "markdown",
      "source": [
        "10. Создайте массив arr_6, состоящий из квадратов чисел от 0 до 10."
      ],
      "metadata": {
        "id": "vavw2XSVcXao"
      }
    },
    {
      "cell_type": "code",
      "source": [
        "arr_6 = np.arange(11) ** 2\n",
        "print(arr_6)"
      ],
      "metadata": {
        "colab": {
          "base_uri": "https://localhost:8080/"
        },
        "id": "3WOMH6ylcYKJ",
        "outputId": "4bf876a2-08de-4df7-b09e-60fdcd23c753"
      },
      "execution_count": null,
      "outputs": [
        {
          "output_type": "stream",
          "name": "stdout",
          "text": [
            "[  0   1   4   9  16  25  36  49  64  81 100]\n"
          ]
        }
      ]
    },
    {
      "cell_type": "markdown",
      "source": [
        "11. Выведите каждый второй элемент массива arr_6."
      ],
      "metadata": {
        "id": "4mq1pn1hdBIc"
      }
    },
    {
      "cell_type": "code",
      "source": [
        "every_sec_el = arr_6[1::2]\n",
        "print(every_sec_el)"
      ],
      "metadata": {
        "colab": {
          "base_uri": "https://localhost:8080/"
        },
        "id": "XHnFC0VYdF_i",
        "outputId": "a0c8f729-e158-4ff2-fb38-6cab5ee78de1"
      },
      "execution_count": null,
      "outputs": [
        {
          "output_type": "stream",
          "name": "stdout",
          "text": [
            "[ 1  9 25 49 81]\n"
          ]
        }
      ]
    },
    {
      "cell_type": "markdown",
      "source": [
        "12. Выведите элементы массива arr_6 в обратном порядке."
      ],
      "metadata": {
        "id": "RYpOly9HdWnV"
      }
    },
    {
      "cell_type": "code",
      "source": [
        "reverse_arr_6 = arr_6[::-1]\n",
        "print(reverse_arr_6)"
      ],
      "metadata": {
        "colab": {
          "base_uri": "https://localhost:8080/"
        },
        "id": "jsQ2FoN_dbVJ",
        "outputId": "08d8b38e-1fa3-49fc-dbc7-16a6d3dea6be"
      },
      "execution_count": null,
      "outputs": [
        {
          "output_type": "stream",
          "name": "stdout",
          "text": [
            "[100  81  64  49  36  25  16   9   4   1   0]\n"
          ]
        }
      ]
    },
    {
      "cell_type": "markdown",
      "source": [
        "13. Каждому второму элементу массива arr_6 присвойте значение 2.\n"
      ],
      "metadata": {
        "id": "RzDl78GwdzKY"
      }
    },
    {
      "cell_type": "code",
      "source": [
        "arr_6[1::2] = 2\n",
        "print(arr_6)"
      ],
      "metadata": {
        "colab": {
          "base_uri": "https://localhost:8080/"
        },
        "id": "-YMZJVlXd21m",
        "outputId": "77ed3e95-a16a-413f-dad5-b17423925c3b"
      },
      "execution_count": null,
      "outputs": [
        {
          "output_type": "stream",
          "name": "stdout",
          "text": [
            "[  0   2   4   2  16   2  36   2  64   2 100]\n"
          ]
        }
      ]
    },
    {
      "cell_type": "markdown",
      "source": [
        "14. Проверьте, есть ли в массиве arr_6 значение 49."
      ],
      "metadata": {
        "id": "qBE51rVneOOn"
      }
    },
    {
      "cell_type": "code",
      "source": [
        "are_49_is_here = np.any(arr_6 == 49)\n",
        "print(are_49_is_here)"
      ],
      "metadata": {
        "colab": {
          "base_uri": "https://localhost:8080/"
        },
        "id": "XZXQJW1beSjH",
        "outputId": "341c2fb2-6946-4282-a0ec-66a3c5a4c9df"
      },
      "execution_count": null,
      "outputs": [
        {
          "output_type": "stream",
          "name": "stdout",
          "text": [
            "False\n"
          ]
        }
      ]
    },
    {
      "cell_type": "markdown",
      "source": [
        "15. Создайте двумерный массив А, состоящий из положительных и\n",
        "отрицательных чисел. Из массива A выберите все отрицательные элементы и\n",
        "запишите их в одномерный массив B."
      ],
      "metadata": {
        "id": "U_7mrCxLe-1E"
      }
    },
    {
      "cell_type": "code",
      "source": [
        "A = np.array([[1, -2, 3], [-4, 5, -6], [7, -8, 9]])\n",
        "print(\"Массив A: \\n\", A, \"\\n\")\n",
        "B = A[A < 0]\n",
        "print(\"Массив B: \\n\",B)"
      ],
      "metadata": {
        "colab": {
          "base_uri": "https://localhost:8080/"
        },
        "id": "u-ATzUokfAo5",
        "outputId": "69be1324-6454-481a-e866-09b17754420d"
      },
      "execution_count": null,
      "outputs": [
        {
          "output_type": "stream",
          "name": "stdout",
          "text": [
            "Массив A: \n",
            " [[ 1 -2  3]\n",
            " [-4  5 -6]\n",
            " [ 7 -8  9]] \n",
            "\n",
            "Массив B: \n",
            " [-2 -4 -6 -8]\n"
          ]
        }
      ]
    }
  ]
}